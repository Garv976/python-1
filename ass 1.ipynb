{
  "nbformat": 4,
  "nbformat_minor": 0,
  "metadata": {
    "colab": {
      "provenance": []
    },
    "kernelspec": {
      "name": "python3",
      "display_name": "Python 3"
    },
    "language_info": {
      "name": "python"
    }
  },
  "cells": [
    {
      "cell_type": "code",
      "execution_count": 2,
      "metadata": {
        "id": "yiIRSPbe25sY"
      },
      "outputs": [],
      "source": [
        " # qn-1 explain the key features of Python that make it a popular choice for programming\n",
        "#ans - it is easy to learn\n",
        "#it has lots of libraries\n",
        "#it is widely used in the industry\n",
        "#has a active community\n"
      ]
    },
    {
      "cell_type": "code",
      "source": [
        " #qn-2 Describe the role of predefined keywords in Python and provide examples of how they are used in program\n",
        " #ans- Python Keywords are some predefined and reserved words in Python that have special meaning.they are used to define syntax of coding\n",
        " #example-\n",
        ""
      ],
      "metadata": {
        "id": "vVKqMLB23HLI"
      },
      "execution_count": null,
      "outputs": []
    },
    {
      "cell_type": "code",
      "source": [
        "#qn3-Compare and contrast mutable and immutable objects in Python with examples\n",
        "#ans - objects where value can be changed after they are created are called as mutable objects\n",
        "#example-list\n",
        "b=['garv','singh']\n",
        "b[0]='Garv'\n",
        "b"
      ],
      "metadata": {
        "colab": {
          "base_uri": "https://localhost:8080/"
        },
        "id": "etNBiEkT4PaM",
        "outputId": "8a58d4dc-ac87-481b-f6e8-fb4fd92ac672"
      },
      "execution_count": 4,
      "outputs": [
        {
          "output_type": "execute_result",
          "data": {
            "text/plain": [
              "['Garv', 'singh']"
            ]
          },
          "metadata": {},
          "execution_count": 4
        }
      ]
    },
    {
      "cell_type": "code",
      "source": [
        "#objects whose value cant be changed after they r created are called as immutable objects\n",
        "# example= string\n",
        "a='garv'\n",
        "a[0]='G'"
      ],
      "metadata": {
        "colab": {
          "base_uri": "https://localhost:8080/",
          "height": 176
        },
        "id": "qBltdCp648hf",
        "outputId": "510acc7e-e0ed-4775-cfb9-131fc0098627"
      },
      "execution_count": 5,
      "outputs": [
        {
          "output_type": "error",
          "ename": "TypeError",
          "evalue": "'str' object does not support item assignment",
          "traceback": [
            "\u001b[0;31m---------------------------------------------------------------------------\u001b[0m",
            "\u001b[0;31mTypeError\u001b[0m                                 Traceback (most recent call last)",
            "\u001b[0;32m<ipython-input-5-2173fbb54af4>\u001b[0m in \u001b[0;36m<cell line: 4>\u001b[0;34m()\u001b[0m\n\u001b[1;32m      2\u001b[0m \u001b[0;31m# example= string\u001b[0m\u001b[0;34m\u001b[0m\u001b[0;34m\u001b[0m\u001b[0m\n\u001b[1;32m      3\u001b[0m \u001b[0ma\u001b[0m\u001b[0;34m=\u001b[0m\u001b[0;34m'garv'\u001b[0m\u001b[0;34m\u001b[0m\u001b[0;34m\u001b[0m\u001b[0m\n\u001b[0;32m----> 4\u001b[0;31m \u001b[0ma\u001b[0m\u001b[0;34m[\u001b[0m\u001b[0;36m0\u001b[0m\u001b[0;34m]\u001b[0m\u001b[0;34m=\u001b[0m\u001b[0;34m'G'\u001b[0m\u001b[0;34m\u001b[0m\u001b[0;34m\u001b[0m\u001b[0m\n\u001b[0m",
            "\u001b[0;31mTypeError\u001b[0m: 'str' object does not support item assignment"
          ]
        }
      ]
    },
    {
      "cell_type": "code",
      "source": [
        "#qn4- Discuss the different types of operators in Python and provide examples of how they are used\n",
        "#ans- there are many type of operators like arithmetic,modulus,etc\n",
        "#arithmetic=\n",
        "a=9\n",
        "b=9\n",
        "a+b"
      ],
      "metadata": {
        "colab": {
          "base_uri": "https://localhost:8080/"
        },
        "id": "WfjZyKMR5Sw6",
        "outputId": "60485857-e6cd-4edc-ebb7-ceaa8cf58a7d"
      },
      "execution_count": 8,
      "outputs": [
        {
          "output_type": "execute_result",
          "data": {
            "text/plain": [
              "18"
            ]
          },
          "metadata": {},
          "execution_count": 8
        }
      ]
    },
    {
      "cell_type": "code",
      "source": [
        "# modulus operator\n",
        "21%4"
      ],
      "metadata": {
        "colab": {
          "base_uri": "https://localhost:8080/"
        },
        "id": "OQV-iadw5vzz",
        "outputId": "7557c782-d638-400d-db7b-9c80042d28be"
      },
      "execution_count": 9,
      "outputs": [
        {
          "output_type": "execute_result",
          "data": {
            "text/plain": [
              "1"
            ]
          },
          "metadata": {},
          "execution_count": 9
        }
      ]
    },
    {
      "cell_type": "code",
      "source": [
        "#not operator\n",
        "not 1"
      ],
      "metadata": {
        "colab": {
          "base_uri": "https://localhost:8080/"
        },
        "id": "S3yorhmd58la",
        "outputId": "c0d6fb3d-beea-45fa-841f-ee21ff9a011e"
      },
      "execution_count": 10,
      "outputs": [
        {
          "output_type": "execute_result",
          "data": {
            "text/plain": [
              "False"
            ]
          },
          "metadata": {},
          "execution_count": 10
        }
      ]
    },
    {
      "cell_type": "code",
      "source": [
        "#explain the concept of type casting in Python with examples\n",
        "#type casting is used to change the data type of object\n",
        "#ex-\n",
        "a=3.4\n",
        "int(a)\n"
      ],
      "metadata": {
        "colab": {
          "base_uri": "https://localhost:8080/"
        },
        "id": "ART4kYbx6CsG",
        "outputId": "3c6f1b1e-b832-42f1-bdb5-e51eb628045a"
      },
      "execution_count": 13,
      "outputs": [
        {
          "output_type": "execute_result",
          "data": {
            "text/plain": [
              "3"
            ]
          },
          "metadata": {},
          "execution_count": 13
        }
      ]
    },
    {
      "cell_type": "code",
      "source": [
        "a='2.3'\n",
        "float(a)"
      ],
      "metadata": {
        "colab": {
          "base_uri": "https://localhost:8080/"
        },
        "id": "ZUy6pqO36bCF",
        "outputId": "7a6c62c6-bd3b-4fc2-8d48-b356ce8aacf3"
      },
      "execution_count": 14,
      "outputs": [
        {
          "output_type": "execute_result",
          "data": {
            "text/plain": [
              "2.3"
            ]
          },
          "metadata": {},
          "execution_count": 14
        }
      ]
    },
    {
      "cell_type": "code",
      "source": [
        "a='2'\n",
        "b=3\n",
        "int(a)+b"
      ],
      "metadata": {
        "colab": {
          "base_uri": "https://localhost:8080/"
        },
        "id": "szCh9khF6mWy",
        "outputId": "22b21873-3368-4e8d-d88b-63a7681dfe23"
      },
      "execution_count": 15,
      "outputs": [
        {
          "output_type": "execute_result",
          "data": {
            "text/plain": [
              "5"
            ]
          },
          "metadata": {},
          "execution_count": 15
        }
      ]
    },
    {
      "cell_type": "code",
      "source": [
        "#qn6 =How do conditional statements work in Python? Illustrate with examples\n",
        "# it is the mechanism that govern the order in which statements and instructions r executed\n",
        "#crucial for implementing logic\n",
        "#ex=\n",
        "age=20\n",
        "if age <34:\n",
        "  print('adult')"
      ],
      "metadata": {
        "colab": {
          "base_uri": "https://localhost:8080/"
        },
        "id": "HFt-6_ld6yBR",
        "outputId": "4e4594e1-1243-4972-e400-9321f1160e93"
      },
      "execution_count": 16,
      "outputs": [
        {
          "output_type": "stream",
          "name": "stdout",
          "text": [
            "adult\n"
          ]
        }
      ]
    },
    {
      "cell_type": "code",
      "source": [
        "a=10000\n",
        "if a<10:\n",
        "  print ('false')\n",
        "elif a <1000:\n",
        "    print('still false')\n",
        "else:\n",
        "  if a <1000000:\n",
        "\n",
        "    print('true')"
      ],
      "metadata": {
        "colab": {
          "base_uri": "https://localhost:8080/"
        },
        "id": "2dwj1Npe7bVO",
        "outputId": "e0ded2d2-83c9-4623-87dd-cf8e477f7b16"
      },
      "execution_count": 20,
      "outputs": [
        {
          "output_type": "stream",
          "name": "stdout",
          "text": [
            "true\n"
          ]
        }
      ]
    },
    {
      "cell_type": "code",
      "source": [
        "#qn7 = Describe the different types of loops in Python and their use cases with examples\n",
        "#loops allows to repeate a block of code repeatedly\n",
        "# two types of loops are there : 1- for loop    ,  2- while loop\n",
        "#for loop\n",
        "l=[1,2,'ajay']\n",
        "for i in l:\n",
        "  print(i)"
      ],
      "metadata": {
        "colab": {
          "base_uri": "https://localhost:8080/"
        },
        "id": "fw6SDSPO7tOO",
        "outputId": "7e875694-7a60-4151-d393-1e1f782bf9e3"
      },
      "execution_count": 23,
      "outputs": [
        {
          "output_type": "stream",
          "name": "stdout",
          "text": [
            "1\n",
            "2\n",
            "ajay\n"
          ]
        }
      ]
    },
    {
      "cell_type": "code",
      "source": [
        "#while loop-\n",
        "a=5\n",
        "while a>0:\n",
        "  print(a)\n",
        "  a=a-1"
      ],
      "metadata": {
        "colab": {
          "base_uri": "https://localhost:8080/"
        },
        "id": "KsR3TG3m81ME",
        "outputId": "d656ef86-8758-461c-da5e-97bbfc5eb168"
      },
      "execution_count": 25,
      "outputs": [
        {
          "output_type": "stream",
          "name": "stdout",
          "text": [
            "5\n",
            "4\n",
            "3\n",
            "2\n",
            "1\n"
          ]
        }
      ]
    },
    {
      "cell_type": "code",
      "source": [],
      "metadata": {
        "id": "yjdPoTJW9C3b"
      },
      "execution_count": null,
      "outputs": []
    },
    {
      "cell_type": "code",
      "source": [],
      "metadata": {
        "id": "_qUyrY0i9Yn7"
      },
      "execution_count": null,
      "outputs": []
    }
  ]
}